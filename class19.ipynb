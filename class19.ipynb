{
 "cells": [
  {
   "cell_type": "code",
   "execution_count": null,
   "metadata": {},
   "outputs": [],
   "source": [
    "# program to signification increase productivity\n",
    "\n",
    "# HO: mu 50                Ha: mu>50\n",
    "# alpha=0.05\n",
    "# sample_mean = 53\n",
    "# population_std = 5  \n",
    "# sample_size = 30  \n",
    "# normality valid by CLT, Population std given - Z test\n",
    "# Z test"
   ]
  },
  {
   "cell_type": "code",
   "execution_count": 1,
   "metadata": {},
   "outputs": [
    {
     "name": "stdout",
     "output_type": "stream",
     "text": [
      "Z-Score: 3.2863353450309964\n",
      "Reject the null hypothesis\n"
     ]
    }
   ],
   "source": [
    "import numpy as np\n",
    "from scipy.stats import norm\n",
    "\n",
    "sample_mean = 53\n",
    "population_std = 5  \n",
    "sample_size = 30  \n",
    "alpha = 0.05        \n",
    "\n",
    "z_score = (sample_mean - 50) / (population_std / np.sqrt(sample_size))\n",
    "print(\"Z-Score:\",z_score)\n",
    "\n",
    "critical_value = norm.ppf(1 - alpha)\n",
    "if z_score > critical_value:\n",
    "    print(\"Reject the null hypothesis\")\n",
    "else:\n",
    "    print(\"Fail to reject the null hypothesis\")"
   ]
  },
  {
   "cell_type": "code",
   "execution_count": null,
   "metadata": {},
   "outputs": [],
   "source": [
    "# suppose a snack food company claims that their lays wafer packets contain average weight of 50g per packet. To verify this claim, a consumer watchdog organization decodes to test a random sample of lays wafer packet. The organization wants to determine whether the actual average weight differs significantly from the claimed average weight of 50g. The sample of 40 packets has an average weight of 49g with a standard deviation of 4g. At 5% level of significance, can we conclude that the average weight of lays wafer packets is significantly different from 50g?"
   ]
  },
  {
   "cell_type": "code",
   "execution_count": 11,
   "metadata": {},
   "outputs": [
    {
     "name": "stdout",
     "output_type": "stream",
     "text": [
      "T-Score: -1.5811388300841895\n",
      "Fail to reject the null hypothesis\n"
     ]
    }
   ],
   "source": [
    "import numpy as np\n",
    "from scipy.stats import t\n",
    "\n",
    "sample_mean = 49\n",
    "population_mean = 50\n",
    "sample_size = 40\n",
    "sample_std = 4\n",
    "alpha = 0.05\n",
    "\n",
    "\n",
    "t_score = (sample_mean - population_mean) / (sample_std / np.sqrt(sample_size))\n",
    "print(\"T-Score:\",t_score)\n",
    "\n",
    "df = sample_size - 1\n",
    "\n",
    "\n",
    "critical_value = t.ppf(1 - alpha/2, df)\n",
    "\n",
    "\n",
    "if np.abs(t_score) > critical_value:\n",
    "    print(\"Reject the null hypothesis\")\n",
    "else:\n",
    "    print(\"Fail to reject the null hypothesis\")\n"
   ]
  },
  {
   "cell_type": "code",
   "execution_count": null,
   "metadata": {},
   "outputs": [],
   "source": [
    "# P value approach"
   ]
  },
  {
   "cell_type": "code",
   "execution_count": null,
   "metadata": {},
   "outputs": [],
   "source": [
    "# Type 1 and Type 2 error\n",
    "\n",
    "# Type 1 error: Rejecting the null hypothesis when it is actually true\n",
    "# Type 2 error: Failing to reject the null hypothesis when it is actually false\n",
    "\n",
    "# Type 1 error is denoted by alpha\n",
    "# Type 2 error is denoted by beta\n",
    "\n",
    "# Power of the test = 1 - beta\n",
    "\n",
    "# Power of the test is the probability of rejecting the null hypothesis when it is actually false"
   ]
  },
  {
   "cell_type": "code",
   "execution_count": null,
   "metadata": {},
   "outputs": [],
   "source": [
    "# One sided vs Two sided test\n",
    "\n",
    "# One sided test: The alternative hypothesis is accepted if the sample mean is significantly greater or lesser than the population mean\n",
    "# Two sided test: The alternative hypothesis is accepted if the sample mean is significantly different from the population mean\n",
    "\n",
    "# Confidence Interval\n",
    "\n",
    "# Confidence interval is a range of values within which the population parameter is estimated to lie\n",
    "\n",
    "# Confidence level = 1 - alpha\n",
    "\n",
    "\n",
    "\n",
    "\n"
   ]
  },
  {
   "cell_type": "code",
   "execution_count": null,
   "metadata": {},
   "outputs": [],
   "source": [
    "    # suppose a snack food company claims that their lays wafer packets contain average weight of 50g per packet. To verify this claim, a consumer watchdog organization decodes to test a random sample of lays wafer packet. The organization wants to determine whether the actual average weight differs significantly from the claimed average weight of 50g. The sample of 40 packets and measures their weights. To find that the average weight of the sample is 49g with a pop standard deviation of 5g."
   ]
  },
  {
   "cell_type": "code",
   "execution_count": 3,
   "metadata": {},
   "outputs": [
    {
     "name": "stdout",
     "output_type": "stream",
     "text": [
      "T-Score: -1.2649110640673518\n",
      "Fail to reject the null hypothesis\n"
     ]
    }
   ],
   "source": [
    "import numpy as np\n",
    "from scipy.stats import t\n",
    "\n",
    "sample_mean = 49\n",
    "population_mean = 50\n",
    "sample_size = 40\n",
    "sample_std = 5\n",
    "alpha = 0.05\n",
    "\n",
    "t_score = (sample_mean - population_mean) / (sample_std / np.sqrt(sample_size))\n",
    "print(\"T-Score:\", t_score)\n",
    "\n",
    "df = sample_size - 1\n",
    "\n",
    "critical_value = t.ppf(1 - alpha/2, df)\n",
    "\n",
    "if np.abs(t_score) > critical_value:\n",
    "    print(\"Reject the null hypothesis\")\n",
    "else:\n",
    "    print(\"Fail to reject the null hypothesis\")\n"
   ]
  },
  {
   "cell_type": "code",
   "execution_count": null,
   "metadata": {},
   "outputs": [],
   "source": []
  }
 ],
 "metadata": {
  "kernelspec": {
   "display_name": "Python 3",
   "language": "python",
   "name": "python3"
  },
  "language_info": {
   "codemirror_mode": {
    "name": "ipython",
    "version": 3
   },
   "file_extension": ".py",
   "mimetype": "text/x-python",
   "name": "python",
   "nbconvert_exporter": "python",
   "pygments_lexer": "ipython3",
   "version": "3.10.7"
  }
 },
 "nbformat": 4,
 "nbformat_minor": 2
}
